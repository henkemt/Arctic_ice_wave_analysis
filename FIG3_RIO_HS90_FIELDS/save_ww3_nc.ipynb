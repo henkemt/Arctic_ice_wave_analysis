{
 "cells": [
  {
   "cell_type": "markdown",
   "id": "1fd4d3c3-41b9-4730-8011-3b38fa11ec5f",
   "metadata": {},
   "source": [
    "# Preprocessing Median and 90th Percentile Hs Fields\n",
    "This script outputs ensemble and time averaged median and 90th percentile fields for a specific month.\n",
    "The process is run in for loop below iterating over months jul, sep, nov and time slices 2020-2040, 2050-2070"
   ]
  },
  {
   "cell_type": "code",
   "execution_count": 3,
   "id": "10c6ffde-261f-468f-90e0-af235f63adde",
   "metadata": {},
   "outputs": [],
   "source": [
    "import xarray as xr\n",
    "import numpy as np\n",
    "import os"
   ]
  },
  {
   "cell_type": "markdown",
   "id": "bf4001aa-c2ed-4f7a-88ea-b5b7bdf1939f",
   "metadata": {},
   "source": [
    "### Functions for reading WW3 simulation data"
   ]
  },
  {
   "cell_type": "code",
   "execution_count": 4,
   "id": "1e1fd94b-f69f-4241-956c-f414d93a346e",
   "metadata": {},
   "outputs": [],
   "source": [
    "def find_ww3_file(root_directory,year):\n",
    "    for root, dirs, files in os.walk(root_directory):\n",
    "        for file in files:\n",
    "            if str(year) in file:\n",
    "                matching_file = (os.path.join(root, file))\n",
    "    return matching_file\n",
    "\n",
    "def extract_ww3_data(ncfile,var,year,month):\n",
    "    with xr.open_dataset(ncfile) as ds:\n",
    "        ds = ds.sel(time=ds.time.dt.month.isin([month]))\n",
    "        dt = np.array(ds.coords['time'][:])        \n",
    "        x,y = np.array(ds.variables['longitude'][:]),np.array(ds.variables['latitude'][:])\n",
    "        var_field = np.array(ds.variables[var][:])\n",
    "    return var_field,x,y,dt\n",
    "\n",
    "def concatenate_ww3(rootdir,var,year0,yearn,month):\n",
    "    if var == 'hs':\n",
    "        rootvardir = rootdir + var\n",
    "    elif var == 'tp':\n",
    "        rootvardir = rootdir + var\n",
    "    years = np.arange(year0,yearn,1)\n",
    "    for count,year in enumerate(years):\n",
    "        file = find_ww3_file(rootvardir,year)\n",
    "        temp,x,y,temp_dt = extract_ww3_data(file,var,year,month)\n",
    "        if count == 0:\n",
    "            series = temp\n",
    "            dt = temp_dt\n",
    "        else:\n",
    "            series = np.vstack((series,temp))\n",
    "            dt = np.append(dt,temp_dt)\n",
    "    series = np.where(np.isnan(series),0,series)\n",
    "    return series,dt\n",
    "\n",
    "def wavefield_stats(hs,percentile):\n",
    "    hs_med = np.nanmedian(hs,axis =0)\n",
    "    hs_per = np.percentile(hs, percentile,axis = 0) \n",
    "    return hs_med, hs_per"
   ]
  },
  {
   "cell_type": "markdown",
   "id": "a452a2e0-4b34-481d-ade6-9f1e8f0f29a7",
   "metadata": {},
   "source": [
    "### Derive and save ensemble and yearly averaged monthly 50th/90th percentile Hs fields"
   ]
  },
  {
   "cell_type": "code",
   "execution_count": 7,
   "id": "10228123-1954-4bc0-8b1a-09d67c990801",
   "metadata": {},
   "outputs": [
    {
     "name": "stdout",
     "output_type": "stream",
     "text": [
      "WW3_2020_2040_7.nc\n",
      "NetCDF file 'WW3_2020_2040_7.nc' saved successfully.\n",
      "WW3_2020_2040_9.nc\n",
      "NetCDF file 'WW3_2020_2040_9.nc' saved successfully.\n",
      "WW3_2020_2040_11.nc\n",
      "NetCDF file 'WW3_2020_2040_11.nc' saved successfully.\n",
      "WW3_2050_2070_7.nc\n",
      "NetCDF file 'WW3_2050_2070_7.nc' saved successfully.\n",
      "WW3_2050_2070_9.nc\n",
      "NetCDF file 'WW3_2050_2070_9.nc' saved successfully.\n",
      "WW3_2050_2070_11.nc\n",
      "NetCDF file 'WW3_2050_2070_11.nc' saved successfully.\n"
     ]
    }
   ],
   "source": [
    "months = [7,9,11]\n",
    "year0s = [2020,2050]\n",
    "yearns = [2040,2070]\n",
    "\n",
    "for year0,yearn in zip(year0s,yearns):\n",
    "    for month in months:\n",
    "        output_filename = f'WW3_{year0}_{yearn}_{month}.nc'\n",
    "        print(output_filename)\n",
    "\n",
    "        #CNRM\n",
    "        rootdir = '/WW3/CNRM/'\n",
    "        #Load the Hs data \n",
    "        hs,dt = concatenate_ww3(rootdir,'hs',year0,yearn,month)\n",
    "        hs_med_cnrm, hs_per_cnrm = wavefield_stats(hs,90)\n",
    "\n",
    "        #ECEARTH\n",
    "        rootdir = '/WW3/ECEARTH/'\n",
    "        #Load the Hs data \n",
    "        hs,dt = concatenate_ww3(rootdir,'hs',year0,yearn,month)\n",
    "        hs_med_ecearth, hs_per_ecearth = wavefield_stats(hs,90)\n",
    "\n",
    "        #MPI\n",
    "        rootdir = '/WW3/MPI/'\n",
    "        #Load the Hs data \n",
    "        hs,dt = concatenate_ww3(rootdir,'hs',year0,yearn,month)\n",
    "        hs_med_mpi, hs_per_mpi = wavefield_stats(hs,90)\n",
    "\n",
    "        #MRI\n",
    "        rootdir = '/WW3/MRI/'\n",
    "        #Load the Hs data \n",
    "        hs,dt = concatenate_ww3(rootdir,'hs',year0,yearn,month)\n",
    "        hs_med_mri, hs_per_mri = wavefield_stats(hs,90)\n",
    "        \n",
    "        ave_per = np.array([hs_per_cnrm,hs_per_ecearth,hs_per_mpi,hs_per_mri])\n",
    "        ave_per = np.nanmean(ave_per,axis =0)\n",
    "        \n",
    "        ave_med = np.array([hs_med_cnrm,hs_med_ecearth,hs_med_mpi,hs_med_mri])\n",
    "        ave_med = np.nanmean(ave_med,axis =0)\n",
    "        \n",
    "        nodes = ave_med.shape[0]\n",
    "\n",
    "        hs_med_array = xr.DataArray(ave_med,\n",
    "                                    dims=('nodes'),\n",
    "                                    coords={'nodes': np.arange(nodes)},\n",
    "                                    name='hs_med')\n",
    "\n",
    "        hs_per_array = xr.DataArray(ave_per,\n",
    "                                    dims=('nodes'),\n",
    "                                    coords={'nodes': np.arange(nodes)},\n",
    "                                    name='hs_per')\n",
    "\n",
    "\n",
    "        dataset = xr.Dataset({'hs_med': hs_med_array, 'hs_per': hs_per_array})\n",
    "        dataset.to_netcdf(output_filename)\n",
    "        print(f\"NetCDF file '{output_filename}' saved successfully.\")\n"
   ]
  }
 ],
 "metadata": {
  "kernelspec": {
   "display_name": "Python [conda env:.conda-geocopy]",
   "language": "python",
   "name": "conda-env-.conda-geocopy-py"
  },
  "language_info": {
   "codemirror_mode": {
    "name": "ipython",
    "version": 3
   },
   "file_extension": ".py",
   "mimetype": "text/x-python",
   "name": "python",
   "nbconvert_exporter": "python",
   "pygments_lexer": "ipython3",
   "version": "3.8.5"
  }
 },
 "nbformat": 4,
 "nbformat_minor": 5
}
