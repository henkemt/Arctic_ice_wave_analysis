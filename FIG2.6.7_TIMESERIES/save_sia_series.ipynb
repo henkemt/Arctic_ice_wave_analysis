{
 "cells": [
  {
   "cell_type": "markdown",
   "id": "e8fc361b-20f6-4d89-9324-e1f73915bdcf",
   "metadata": {},
   "source": [
    "# Preprocess GCM SIA Series"
   ]
  },
  {
   "cell_type": "code",
   "execution_count": 1,
   "id": "d015e418-e66d-48fe-81e0-5e7e3f089520",
   "metadata": {},
   "outputs": [],
   "source": [
    "import xarray as xr\n",
    "import numpy as np\n",
    "import os\n",
    "import pandas as pd\n",
    "import scipy\n",
    "from scipy import interpolate\n",
    "import geopandas as gpd\n",
    "import shapely.vectorized\n",
    "from itertools import product"
   ]
  },
  {
   "cell_type": "markdown",
   "id": "7b03d0ae-83f7-430b-ac82-e88e7702a65c",
   "metadata": {},
   "source": [
    "### Function to find, read, and concatenate data."
   ]
  },
  {
   "cell_type": "code",
   "execution_count": 12,
   "id": "fc65e7c7-376e-48ca-9948-eb2c1ee2f555",
   "metadata": {},
   "outputs": [],
   "source": [
    "#GCM FUNCTIONS\n",
    "def yearcheck(file, year):\n",
    "    check = True\n",
    "    with xr.open_dataset(file) as ds:\n",
    "        time = ds.coords['time'].values[:]\n",
    "        if type(time[0]) == np.datetime64:\n",
    "            time = pd.to_datetime(time) \n",
    "        ds_years= [time[i].year for i in range(len(time))]\n",
    "    if year not in ds_years:\n",
    "        check = False\n",
    "    return check\n",
    "\n",
    "def extract_gcm_data(ncfile,var,year,month):\n",
    "    with xr.open_dataset(ncfile) as ds:\n",
    "        ds = ds.where(((ds['time.year'] == year)), drop=True)\n",
    "        ds = ds.sel(time=ds.time.dt.month.isin([month]))\n",
    "        dt = np.array(ds.coords['time'][:])\n",
    "        if 'lat' in ds.variables and 'lon' in ds.variables:\n",
    "            x,y = np.array(ds.variables['lon'][:]),np.array(ds.variables['lat'][:])\n",
    "        elif 'latitude' in ds.variables and 'longitude' in ds.variables:\n",
    "            x,y = np.array(ds.variables['longitude'][:]),np.array(ds.variables['latitude'][:])\n",
    "        else:\n",
    "            raise ValueError(\"Unable to find latitude and longitude variables in the dataset.\")\n",
    "        x = np.where(x<0,x+360,x)\n",
    "        var_field = np.array(ds.variables[var][:])\n",
    "    return var_field,x,y,dt\n",
    "\n",
    "#Interpolate 3D GCM data to another grid\n",
    "def gcm_interp(x,y,z,xgrid,ygrid):\n",
    "    x = np.ravel(x)\n",
    "    y = np.ravel(y)\n",
    "    if np.ndim(z) == 3:\n",
    "        for tstep in range(z.shape[0]):\n",
    "            ztemp = np.ravel(z[tstep,:,:])\n",
    "            temp = scipy.interpolate.griddata((x,y),ztemp,(xgrid,ygrid),method='nearest')\n",
    "\n",
    "            if tstep == 0:\n",
    "                zgrid = temp\n",
    "            else:\n",
    "                zgrid = np.dstack((zgrid,temp))\n",
    "        zgrid = np.transpose(zgrid, (2, 0, 1))\n",
    "    else:\n",
    "        ztemp = np.ravel(z[:,:])\n",
    "        temp = scipy.interpolate.griddata((x,y),ztemp,(xgrid,ygrid),method='linear')\n",
    "        temp1 = scipy.interpolate.griddata((x,y),ztemp,(xgrid,ygrid),method='nearest')\n",
    "        temp  = np.where(np.isnan(temp),temp1,temp)\n",
    "        zgrid = temp\n",
    "    return zgrid\n",
    "\n",
    "def concatenate_gcm(rootdir,var,year0,yearn,month):\n",
    "    years = np.arange(year0,yearn,1)\n",
    "    for count,year in enumerate(years):\n",
    "        file = find_gcm_file(rootdir,year)\n",
    "        temp,x,y,temp_dt = extract_gcm_data(file,var,year,month)\n",
    "        if count == 0:\n",
    "            series = temp\n",
    "            dt = temp_dt\n",
    "        else:\n",
    "            series = np.vstack((series,temp))\n",
    "            dt = np.append(dt,temp_dt)\n",
    "    return series,dt,x,y\n",
    "\n",
    "def find_gcm_file(root_directory,year):\n",
    "    for root, dirs, files in os.walk(root_directory):\n",
    "        filecheck = False\n",
    "        for file in files:\n",
    "            filecheck = yearcheck(os.path.join(root, file),year)\n",
    "            if filecheck == False:\n",
    "                continue\n",
    "            else:\n",
    "                matching_file = (os.path.join(root, file))\n",
    "                break\n",
    "        if filecheck == False:\n",
    "            matching_file = []\n",
    "            print(f'A file which contained the year {year} was not found!')\n",
    "    return matching_file\n",
    "\n",
    "def OpenAreacello(root_directory):\n",
    "    for root, dirs, files in os.walk(root_directory):\n",
    "        for file in files:\n",
    "            ncpath = os.path.join(root, file)\n",
    "            with xr.open_dataset(ncpath) as ds:\n",
    "                var_field = np.array(ds.variables['areacello'][:])                \n",
    "    return var_field"
   ]
  },
  {
   "cell_type": "markdown",
   "id": "85a18870-0aac-4133-99eb-d31c74baffde",
   "metadata": {},
   "source": [
    "## Create SIA derivation field function"
   ]
  },
  {
   "cell_type": "code",
   "execution_count": 82,
   "id": "17ef7359-cea5-491e-94d1-60a809251400",
   "metadata": {},
   "outputs": [],
   "source": [
    "def SIAFields(sic,areacello):\n",
    "    #If 0 to 100 scale, transform to 0 to 1\n",
    "    if np.nanmax(sic)>1.1:\n",
    "        sic = sic/100\n",
    "    sia = sic * areacello[np.newaxis,:,:]\n",
    "    sia = sia/((10**6)*(10**6))\n",
    "    return sia"
   ]
  },
  {
   "cell_type": "markdown",
   "id": "6c39448d-0590-4d7f-99fe-c2b683e0b774",
   "metadata": {},
   "source": [
    "## Extract Data Within Regional Shapefile"
   ]
  },
  {
   "cell_type": "code",
   "execution_count": 83,
   "id": "0de601ca-f41d-403d-be59-b8f4d007fa10",
   "metadata": {},
   "outputs": [],
   "source": [
    "def sea_aves(field,seas,x,y):\n",
    "    sea_names = []\n",
    "    if np.nanmax(x)>180:\n",
    "        x = np.where(x>180,x-360,x)\n",
    "    for index, row in seas.iterrows():\n",
    "        name = row['name']\n",
    "        sea_names.append(name)\n",
    "        poly = row['geometry']\n",
    "        nodes= np.where(shapely.vectorized.contains(poly, x, y))\n",
    "        sea_nodes = field[:,nodes[0],nodes[1]]\n",
    "        if index == 0:\n",
    "            sea_sum = np.nansum(sea_nodes,axis = 1)\n",
    "        else:\n",
    "            temp = np.nansum(sea_nodes,axis =1)\n",
    "            sea_sum = np.vstack((sea_sum,temp))      \n",
    "    return sea_sum,sea_names"
   ]
  },
  {
   "cell_type": "markdown",
   "id": "b630f3d6-6841-417b-a0dc-1b1e92fd40e6",
   "metadata": {},
   "source": [
    "# Derive the timeseries interating over models"
   ]
  },
  {
   "cell_type": "code",
   "execution_count": 88,
   "id": "04e41090-b67a-4cd9-8c9d-c586190e5d85",
   "metadata": {},
   "outputs": [
    {
     "name": "stdout",
     "output_type": "stream",
     "text": [
      "CSV file saved successfully.\n"
     ]
    }
   ],
   "source": [
    "months = [7,9,11]\n",
    "year0 = 2020\n",
    "yearn = 2070\n",
    "\n",
    "fn = 'Regions.shp'\n",
    "seas = gpd.GeoDataFrame.from_file(fn)\n",
    "for model_name in ['CNRM','ECEARTH','MPI','MRI']:\n",
    "    for i,month in enumerate(months):\n",
    "        rootdir = f'/Sea Ice/{model_name}/siconc'\n",
    "        sic,dt,x,y = concatenate_gcm(rootdir,'siconc',year0,yearn,month)\n",
    "        rootdir = f'/Sea Ice/{model_name}/areacello'\n",
    "        areacello = OpenAreacello(rootdir)\n",
    "        sia = SIAFields(sic,areacello)\n",
    "        sia_temp,regions = sea_aves(sia,seas,x,y)\n",
    "        if i == 0:\n",
    "            seas_sia = sia_temp\n",
    "        else:\n",
    "            seas_sia = np.vstack((seas_sia,sia_temp))\n",
    "    \n",
    "    months = ['July','September','November']\n",
    "    cols = [x+str(' ')+y for (x,y) in product(months,regions)]\n",
    "        \n",
    "    df = pd.DataFrame(seas_sia.T, columns=cols)\n",
    "    years = np.arange(year0,yearn,1)\n",
    "    df.insert(0, ('year', ''), years)\n",
    "    df.to_csv(f'{model_name}_SIA_series.csv', index=False)\n",
    "    print(\"CSV file saved successfully.\")"
   ]
  },
  {
   "cell_type": "markdown",
   "id": "68e59480-a870-4150-9720-50049309642d",
   "metadata": {},
   "source": [
    "### Filled Maximum Arrays for Thresholds"
   ]
  },
  {
   "cell_type": "code",
   "execution_count": 93,
   "id": "143fd2aa-9b52-4e72-9c31-17d6d7e781cf",
   "metadata": {},
   "outputs": [
    {
     "name": "stdout",
     "output_type": "stream",
     "text": [
      "CSV file saved successfully.\n"
     ]
    }
   ],
   "source": [
    "month = 9\n",
    "year0 = 2020\n",
    "yearn = 2070\n",
    "\n",
    "fn = 'Regions.shp'\n",
    "seas = gpd.GeoDataFrame.from_file(fn)\n",
    "\n",
    "for model_name in ['CNRM','ECEARTH','MPI','MRI']\n",
    "    rootdir = f'/Sea Ice/{model_name}/siconc'\n",
    "    sic,dt,x,y = concatenate_gcm(rootdir,'siconc',year0,yearn,month)\n",
    "    sic = np.where(np.isnan(sic) == False, 1,sic)\n",
    "    rootdir = f'/Sea Ice/{model_name}/areacello'\n",
    "    areacello = OpenAreacello(rootdir)\n",
    "    sia = SIAFields(sic,areacello)\n",
    "    sia_temp,regions = sea_aves(sia,seas,x,y)\n",
    "    seas_sia = sia_temp\n",
    "    months = ['July']\n",
    "    cols = [x+str(' ')+y for (x,y) in product(months,regions)]\n",
    "    df = pd.DataFrame(seas_sia.T, columns=cols)\n",
    "    years = np.arange(year0,yearn,1)\n",
    "    df.insert(0, ('year', ''), years)\n",
    "    df.to_csv(f'{model_name}_SIA_filled_series.csv', index=False)\n",
    "    print(\"CSV file saved successfully.\")"
   ]
  },
  {
   "cell_type": "code",
   "execution_count": null,
   "id": "f37992c3-ca7d-40a5-aab1-6d3eeca7be6a",
   "metadata": {},
   "outputs": [],
   "source": []
  },
  {
   "cell_type": "code",
   "execution_count": null,
   "id": "48492221-5c00-49c1-854f-f86965c78d24",
   "metadata": {},
   "outputs": [],
   "source": []
  }
 ],
 "metadata": {
  "kernelspec": {
   "display_name": "Python [conda env:geo_env39]",
   "language": "python",
   "name": "conda-env-geo_env39-py"
  },
  "language_info": {
   "codemirror_mode": {
    "name": "ipython",
    "version": 3
   },
   "file_extension": ".py",
   "mimetype": "text/x-python",
   "name": "python",
   "nbconvert_exporter": "python",
   "pygments_lexer": "ipython3",
   "version": "3.9.17"
  }
 },
 "nbformat": 4,
 "nbformat_minor": 5
}
