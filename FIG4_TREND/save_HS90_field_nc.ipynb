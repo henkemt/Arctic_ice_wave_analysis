{
 "cells": [
  {
   "cell_type": "markdown",
   "id": "bacbe809-6f19-4991-9a02-3f97bbab8bf2",
   "metadata": {},
   "source": [
    "## Preprocess Monthly 90th Percentile Hs Data\n",
    "Derives the the monthly 90th percentile hs time series to be used in Figure 4, trend analysis. "
   ]
  },
  {
   "cell_type": "markdown",
   "id": "1e47cd69-c90b-4137-a0e2-8fbb4e439a91",
   "metadata": {},
   "source": [
    "### Libraries"
   ]
  },
  {
   "cell_type": "code",
   "execution_count": 1,
   "id": "8e848334-1d5b-4afe-9177-a6e56061ebf4",
   "metadata": {
    "jupyter": {
     "source_hidden": true
    }
   },
   "outputs": [],
   "source": [
    "import xarray as xr\n",
    "import numpy as np\n",
    "import os\n",
    "import geopandas as gpd\n",
    "import shapely.vectorized\n",
    "import pandas as pd\n",
    "from itertools import product\n",
    "import pandas as pd\n",
    "import pymannkendall as mk\n",
    "import statsmodels.api as sm\n",
    "from scipy.optimize import curve_fit"
   ]
  },
  {
   "cell_type": "markdown",
   "id": "7a10ca8f-d57a-4fed-8713-f73983d1ac6d",
   "metadata": {},
   "source": [
    "### Define function to find, read, and concatenate yearly ww3 data"
   ]
  },
  {
   "cell_type": "code",
   "execution_count": 2,
   "id": "ac77a73f-9719-45d0-a520-4617a49fafd5",
   "metadata": {
    "jupyter": {
     "source_hidden": true
    }
   },
   "outputs": [],
   "source": [
    "def find_ww3_file(root_directory,year):\n",
    "    for root, dirs, files in os.walk(root_directory):\n",
    "        for file in files:\n",
    "            if str(year) in file:\n",
    "                matching_file = (os.path.join(root, file))\n",
    "    return matching_file\n",
    "\n",
    "def extract_ww3_data(ncfile,var,year,month):\n",
    "    with xr.open_dataset(ncfile) as ds:\n",
    "        ds = ds.sel(time=ds.time.dt.month.isin([month]))\n",
    "        dt = np.array(ds.coords['time'][:])    \n",
    "        x,y = np.array(ds.variables['longitude'][:]),np.array(ds.variables['latitude'][:])\n",
    "        var_field = np.array(ds.variables[var][:])\n",
    "    return var_field,x,y,dt\n",
    "\n",
    "def concatenate_ww3(rootdir,var,year0,yearn,month):\n",
    "    if var == 'hs':\n",
    "        rootvardir = rootdir + var\n",
    "    years = np.arange(year0,yearn,1)\n",
    "    for count,year in enumerate(years):\n",
    "        file = find_ww3_file(rootvardir,year)\n",
    "        temp,x,y,temp_dt = extract_ww3_data(file,var,year,month)\n",
    "        if count == 0:\n",
    "            series = temp\n",
    "            dt = temp_dt\n",
    "        else:\n",
    "            series = np.vstack((series,temp))\n",
    "            dt = np.append(dt,temp_dt)\n",
    "    series = np.where(np.isnan(series),0,series)\n",
    "    return series,dt\n",
    "\n",
    "def wavefield_stats(hs,percentile):\n",
    "    hs_med = np.nanmedian(hs,axis =0)\n",
    "    hs_per = np.percentile(hs, percentile,axis = 0) \n",
    "    return hs_med, hs_per\n",
    "\n",
    "def wavefield_stats_3d(hs,percentile,year0,yearn):\n",
    "    years = np.arange(year0,yearn,1)\n",
    "    tsteps = hs.shape[0]//len(years)\n",
    "    for count,year in enumerate(years):\n",
    "        month_arr =hs[(count*tsteps):((count+1)*tsteps),:]\n",
    "        temp_med = np.nanmedian(month_arr,axis =0)\n",
    "        temp_per = np.percentile(month_arr, percentile,axis = 0) \n",
    "        if count == 0:\n",
    "            hs_med = temp_med\n",
    "            hs_per = temp_per\n",
    "        else:\n",
    "            hs_med = np.vstack((hs_med,temp_med))\n",
    "            hs_per = np.vstack((hs_per,temp_per))\n",
    "    return hs_med,hs_per"
   ]
  },
  {
   "cell_type": "markdown",
   "id": "ec1c9231-6369-4f0c-a94e-ab67b0ee43ae",
   "metadata": {},
   "source": [
    "### Define function to save the data"
   ]
  },
  {
   "cell_type": "code",
   "execution_count": 15,
   "id": "2444b154-058a-4117-b62e-af9a3b30e0cf",
   "metadata": {
    "jupyter": {
     "source_hidden": true
    }
   },
   "outputs": [],
   "source": [
    "def savedata(hs_per,output_filename):\n",
    "    nodes = hs_per.shape[1]\n",
    "    years = hs_per.shape[0]\n",
    "    hs_per_array = xr.DataArray(hs_per,\n",
    "                                dims=('time','nodes'),\n",
    "                                coords={'time':np.arange(years),\n",
    "                                        'nodes': np.arange(nodes)},\n",
    "                                name='hs_per')\n",
    "\n",
    "    dataset = xr.Dataset({'hs_per': hs_per_array})\n",
    "    dataset.to_netcdf(output_filename)\n",
    "    print(f\"NetCDF file '{output_filename}' saved successfully.\")"
   ]
  },
  {
   "cell_type": "markdown",
   "id": "81d1e573-0006-4c93-9c06-6833d2cbb02b",
   "metadata": {},
   "source": [
    "## Derive monthly 90th percentile Hs for each model 2020-2070"
   ]
  },
  {
   "cell_type": "code",
   "execution_count": 7,
   "id": "04f9b362-a9b3-47f1-bb5b-a802963a311f",
   "metadata": {},
   "outputs": [
    {
     "name": "stdout",
     "output_type": "stream",
     "text": [
      "NetCDF file 'CNRM_2020_2070_7.nc' saved successfully.\n",
      "NetCDF file 'CNRM_2020_2070_9.nc' saved successfully.\n",
      "NetCDF file 'CNRM_2020_2070_11.nc' saved successfully.\n",
      "NetCDF file 'ECEARTH_2020_2070_7.nc' saved successfully.\n",
      "NetCDF file 'ECEARTH_2020_2070_9.nc' saved successfully.\n",
      "NetCDF file 'ECEARTH_2020_2070_11.nc' saved successfully.\n",
      "NetCDF file 'MPI_2020_2070_7.nc' saved successfully.\n",
      "NetCDF file 'MPI_2020_2070_9.nc' saved successfully.\n",
      "NetCDF file 'MPI_2020_2070_11.nc' saved successfully.\n",
      "NetCDF file 'MRI_2020_2070_7.nc' saved successfully.\n",
      "NetCDF file 'MRI_2020_2070_9.nc' saved successfully.\n",
      "NetCDF file 'MRI_2020_2070_11.nc' saved successfully.\n"
     ]
    }
   ],
   "source": [
    "models = ['CNRM','ECEARTH','MPI','MRI']\n",
    "months = [7,9,11]\n",
    "year0 = 2020\n",
    "yearn = 2070\n",
    "for model in models:\n",
    "    rootdir = f'/WW3/{model}/'\n",
    "    for month in months:\n",
    "        output_filename = f'{model}_{year0}_{yearn}_{month}.nc'\n",
    "        hs,dt = concatenate_ww3(rootdir,'hs',year0,yearn,month)\n",
    "        hs_med,hs_per = wavefield_stats_3d(hs,90,year0,yearn)\n",
    "        savedata(hs_per,output_filename)"
   ]
  },
  {
   "cell_type": "code",
   "execution_count": null,
   "id": "6a58dc28-ffc4-4863-9306-1e8f42d7a3c7",
   "metadata": {},
   "outputs": [],
   "source": []
  }
 ],
 "metadata": {
  "kernelspec": {
   "display_name": "Python [conda env:.conda-geo_env_pyMK]",
   "language": "python",
   "name": "conda-env-.conda-geo_env_pyMK-py"
  },
  "language_info": {
   "codemirror_mode": {
    "name": "ipython",
    "version": 3
   },
   "file_extension": ".py",
   "mimetype": "text/x-python",
   "name": "python",
   "nbconvert_exporter": "python",
   "pygments_lexer": "ipython3",
   "version": "3.9.17"
  }
 },
 "nbformat": 4,
 "nbformat_minor": 5
}
